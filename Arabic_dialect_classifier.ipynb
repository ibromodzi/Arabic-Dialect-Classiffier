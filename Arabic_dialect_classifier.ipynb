{
 "cells": [
  {
   "cell_type": "code",
   "execution_count": 73,
   "metadata": {},
   "outputs": [],
   "source": [
    "# Import Neccesary Libaries\n",
    "import numpy as np\n",
    "import pandas as pd\n",
    "import matplotlib.pyplot as plt\n",
    "import re\n",
    "import string\n",
    "from nltk.corpus import stopwords\n",
    "from sklearn.feature_extraction.text import CountVectorizer, TfidfVectorizer, TfidfTransformer\n",
    "from sklearn.pipeline import Pipeline\n",
    "from sklearn.model_selection import GridSearchCV\n",
    "from sklearn.model_selection import train_test_split\n",
    "from sklearn.neighbors import KNeighborsClassifier\n",
    "from sklearn.naive_bayes import MultinomialNB\n",
    "from sklearn.svm import SVC\n",
    "from sklearn.linear_model import LogisticRegression\n",
    "from sklearn.linear_model import SGDClassifier\n",
    "from sklearn.model_selection import cross_val_score, StratifiedKFold\n",
    "from sklearn.metrics import confusion_matrix,accuracy_score, classification_report"
   ]
  },
  {
   "cell_type": "code",
   "execution_count": 2,
   "metadata": {},
   "outputs": [
    {
     "data": {
      "text/html": [
       "<div>\n",
       "<style scoped>\n",
       "    .dataframe tbody tr th:only-of-type {\n",
       "        vertical-align: middle;\n",
       "    }\n",
       "\n",
       "    .dataframe tbody tr th {\n",
       "        vertical-align: top;\n",
       "    }\n",
       "\n",
       "    .dataframe thead th {\n",
       "        text-align: right;\n",
       "    }\n",
       "</style>\n",
       "<table border=\"1\" class=\"dataframe\">\n",
       "  <thead>\n",
       "    <tr style=\"text-align: right;\">\n",
       "      <th></th>\n",
       "      <th>هناك ، أمام بيانات السائح تماما .</th>\n",
       "      <th>MSA</th>\n",
       "    </tr>\n",
       "  </thead>\n",
       "  <tbody>\n",
       "    <tr>\n",
       "      <th>0</th>\n",
       "      <td>لم اسمع بهذا العنوان من قبل بالقرب من هنا .</td>\n",
       "      <td>MSA</td>\n",
       "    </tr>\n",
       "    <tr>\n",
       "      <th>1</th>\n",
       "      <td>استمر في السير في هذا الطريق حتى تجد صيدلية .</td>\n",
       "      <td>MSA</td>\n",
       "    </tr>\n",
       "    <tr>\n",
       "      <th>2</th>\n",
       "      <td>كم تكلفة الإفطار ؟</td>\n",
       "      <td>MSA</td>\n",
       "    </tr>\n",
       "    <tr>\n",
       "      <th>3</th>\n",
       "      <td>كيف أستطيع مساعدتك ؟</td>\n",
       "      <td>MSA</td>\n",
       "    </tr>\n",
       "    <tr>\n",
       "      <th>4</th>\n",
       "      <td>اتجه يسارا عند الناصية الثالثة .</td>\n",
       "      <td>MSA</td>\n",
       "    </tr>\n",
       "  </tbody>\n",
       "</table>\n",
       "</div>"
      ],
      "text/plain": [
       "               هناك ، أمام بيانات السائح تماما .  MSA\n",
       "0    لم اسمع بهذا العنوان من قبل بالقرب من هنا .  MSA\n",
       "1  استمر في السير في هذا الطريق حتى تجد صيدلية .  MSA\n",
       "2                             كم تكلفة الإفطار ؟  MSA\n",
       "3                           كيف أستطيع مساعدتك ؟  MSA\n",
       "4               اتجه يسارا عند الناصية الثالثة .  MSA"
      ]
     },
     "execution_count": 2,
     "metadata": {},
     "output_type": "execute_result"
    }
   ],
   "source": [
    "train_path = r\"C:\\Users\\ibrom\\Downloads\\dataset\\dataset\\MADAR-Corpus-26-train.tsv\"\n",
    "dev_path = r\"C:\\Users\\ibrom\\Downloads\\dataset\\dataset\\MADAR-Corpus-26-dev.tsv\"\n",
    "train_data = pd.read_csv(train_path, sep = '\\t')\n",
    "dev_data = pd.read_csv(dev_path, sep = '\\t')\n",
    "\n",
    "train_data.head()"
   ]
  },
  {
   "cell_type": "code",
   "execution_count": 3,
   "metadata": {},
   "outputs": [
    {
     "data": {
      "text/html": [
       "<div>\n",
       "<style scoped>\n",
       "    .dataframe tbody tr th:only-of-type {\n",
       "        vertical-align: middle;\n",
       "    }\n",
       "\n",
       "    .dataframe tbody tr th {\n",
       "        vertical-align: top;\n",
       "    }\n",
       "\n",
       "    .dataframe thead th {\n",
       "        text-align: right;\n",
       "    }\n",
       "</style>\n",
       "<table border=\"1\" class=\"dataframe\">\n",
       "  <thead>\n",
       "    <tr style=\"text-align: right;\">\n",
       "      <th></th>\n",
       "      <th>هناك ، أمام بيانات السائح تماما .</th>\n",
       "      <th>MSA</th>\n",
       "    </tr>\n",
       "  </thead>\n",
       "  <tbody>\n",
       "    <tr>\n",
       "      <th>41594</th>\n",
       "      <td>هل في مكتبه قريبه من هنايا ؟</td>\n",
       "      <td>TRI</td>\n",
       "    </tr>\n",
       "    <tr>\n",
       "      <th>41595</th>\n",
       "      <td>اني بنخش مدرسه صيفه في جامعة هاواي .</td>\n",
       "      <td>TRI</td>\n",
       "    </tr>\n",
       "    <tr>\n",
       "      <th>41596</th>\n",
       "      <td>من وين خاطمين حني توا ؟</td>\n",
       "      <td>TRI</td>\n",
       "    </tr>\n",
       "    <tr>\n",
       "      <th>41597</th>\n",
       "      <td>زوز كبار و عيل تلاته سنين .</td>\n",
       "      <td>TRI</td>\n",
       "    </tr>\n",
       "    <tr>\n",
       "      <th>41598</th>\n",
       "      <td>في حمام في المحطة .</td>\n",
       "      <td>TRI</td>\n",
       "    </tr>\n",
       "  </tbody>\n",
       "</table>\n",
       "</div>"
      ],
      "text/plain": [
       "          هناك ، أمام بيانات السائح تماما .  MSA\n",
       "41594          هل في مكتبه قريبه من هنايا ؟  TRI\n",
       "41595  اني بنخش مدرسه صيفه في جامعة هاواي .  TRI\n",
       "41596               من وين خاطمين حني توا ؟  TRI\n",
       "41597           زوز كبار و عيل تلاته سنين .  TRI\n",
       "41598                   في حمام في المحطة .  TRI"
      ]
     },
     "execution_count": 3,
     "metadata": {},
     "output_type": "execute_result"
    }
   ],
   "source": [
    "train_data.tail()"
   ]
  },
  {
   "cell_type": "code",
   "execution_count": 4,
   "metadata": {},
   "outputs": [
    {
     "data": {
      "text/html": [
       "<div>\n",
       "<style scoped>\n",
       "    .dataframe tbody tr th:only-of-type {\n",
       "        vertical-align: middle;\n",
       "    }\n",
       "\n",
       "    .dataframe tbody tr th {\n",
       "        vertical-align: top;\n",
       "    }\n",
       "\n",
       "    .dataframe thead th {\n",
       "        text-align: right;\n",
       "    }\n",
       "</style>\n",
       "<table border=\"1\" class=\"dataframe\">\n",
       "  <thead>\n",
       "    <tr style=\"text-align: right;\">\n",
       "      <th></th>\n",
       "      <th>هناك ، أمام بيانات السائح تماما .</th>\n",
       "      <th>MSA</th>\n",
       "    </tr>\n",
       "  </thead>\n",
       "  <tbody>\n",
       "    <tr>\n",
       "      <th>37506</th>\n",
       "      <td>أنا مقفل . يمكنك فتح بابي ، من فضلك .</td>\n",
       "      <td>MUS</td>\n",
       "    </tr>\n",
       "    <tr>\n",
       "      <th>21928</th>\n",
       "      <td>باخذ هذي الوجبة الثابتة .</td>\n",
       "      <td>RIY</td>\n",
       "    </tr>\n",
       "    <tr>\n",
       "      <th>24856</th>\n",
       "      <td>حاضر الخمسة غدوة ؟</td>\n",
       "      <td>SFX</td>\n",
       "    </tr>\n",
       "    <tr>\n",
       "      <th>22311</th>\n",
       "      <td>اذا وجدت أي شيء ، لو سمحت كلمني .</td>\n",
       "      <td>RIY</td>\n",
       "    </tr>\n",
       "    <tr>\n",
       "      <th>33471</th>\n",
       "      <td>واش عندك علامة الاستلام ديالك ؟</td>\n",
       "      <td>FES</td>\n",
       "    </tr>\n",
       "    <tr>\n",
       "      <th>34257</th>\n",
       "      <td>هل هناك طبيب الفندق أو واحد في الاتصال ؟</td>\n",
       "      <td>KHA</td>\n",
       "    </tr>\n",
       "  </tbody>\n",
       "</table>\n",
       "</div>"
      ],
      "text/plain": [
       "              هناك ، أمام بيانات السائح تماما .  MSA\n",
       "37506     أنا مقفل . يمكنك فتح بابي ، من فضلك .  MUS\n",
       "21928                 باخذ هذي الوجبة الثابتة .  RIY\n",
       "24856                        حاضر الخمسة غدوة ؟  SFX\n",
       "22311         اذا وجدت أي شيء ، لو سمحت كلمني .  RIY\n",
       "33471           واش عندك علامة الاستلام ديالك ؟  FES\n",
       "34257  هل هناك طبيب الفندق أو واحد في الاتصال ؟  KHA"
      ]
     },
     "execution_count": 4,
     "metadata": {},
     "output_type": "execute_result"
    }
   ],
   "source": [
    "#Let's do a random sampling of the data\n",
    "train_data.sample(6)"
   ]
  },
  {
   "cell_type": "code",
   "execution_count": 5,
   "metadata": {},
   "outputs": [
    {
     "name": "stdout",
     "output_type": "stream",
     "text": [
      "<class 'pandas.core.frame.DataFrame'>\n",
      "RangeIndex: 41599 entries, 0 to 41598\n",
      "Data columns (total 2 columns):\n",
      " #   Column                             Non-Null Count  Dtype \n",
      "---  ------                             --------------  ----- \n",
      " 0   هناك ، أمام بيانات السائح تماما .  41599 non-null  object\n",
      " 1   MSA                                41599 non-null  object\n",
      "dtypes: object(2)\n",
      "memory usage: 650.1+ KB\n"
     ]
    }
   ],
   "source": [
    "train_data.info()"
   ]
  },
  {
   "cell_type": "code",
   "execution_count": 6,
   "metadata": {},
   "outputs": [
    {
     "data": {
      "text/plain": [
       "هناك ، أمام بيانات السائح تماما .    0\n",
       "MSA                                  0\n",
       "dtype: int64"
      ]
     },
     "execution_count": 6,
     "metadata": {},
     "output_type": "execute_result"
    }
   ],
   "source": [
    "#Checking if the data contains missing values\n",
    "train_data.isnull().sum()"
   ]
  },
  {
   "cell_type": "code",
   "execution_count": 7,
   "metadata": {},
   "outputs": [
    {
     "name": "stdout",
     "output_type": "stream",
     "text": [
      "294737\n"
     ]
    }
   ],
   "source": [
    "#Checking the total number of word contained in the data\n",
    "print(train_data['هناك ، أمام بيانات السائح تماما .'].apply(lambda x: len(x.split(' '))).sum())"
   ]
  },
  {
   "cell_type": "code",
   "execution_count": 8,
   "metadata": {},
   "outputs": [
    {
     "name": "stdout",
     "output_type": "stream",
     "text": [
      "['MSA' 'BEI' 'CAI' 'DOH' 'RAB' 'TUN' 'ALX' 'ALG' 'AMM' 'ASW' 'DAM' 'JED'\n",
      " 'JER' 'RIY' 'SAN' 'SFX' 'ALE' 'BAG' 'BAS' 'BEN' 'FES' 'KHA' 'MOS' 'MUS'\n",
      " 'SAL' 'TRI']\n"
     ]
    }
   ],
   "source": [
    "#Checking the Arabic dialects contained in the label\n",
    "print(train_data['MSA'].unique())"
   ]
  },
  {
   "cell_type": "code",
   "execution_count": 9,
   "metadata": {},
   "outputs": [
    {
     "data": {
      "text/plain": [
       "<matplotlib.axes._subplots.AxesSubplot at 0x20b6ccc2588>"
      ]
     },
     "execution_count": 9,
     "metadata": {},
     "output_type": "execute_result"
    },
    {
     "data": {
      "image/png": "[encoded data removed]",
      "text/plain": [
       "<Figure size 720x288 with 1 Axes>"
      ]
     },
     "metadata": {
      "needs_background": "light"
     },
     "output_type": "display_data"
    }
   ],
   "source": [
    "#Checking how balanced the data is\n",
    "plt.figure(figsize=(10,4))\n",
    "train_data['MSA'].value_counts().plot(kind = 'bar')"
   ]
  },
  {
   "cell_type": "markdown",
   "metadata": {},
   "source": [
    "We have a very balanced dataset"
   ]
  },
  {
   "cell_type": "code",
   "execution_count": 81,
   "metadata": {},
   "outputs": [
    {
     "data": {
      "text/html": [
       "<div>\n",
       "<style scoped>\n",
       "    .dataframe tbody tr th:only-of-type {\n",
       "        vertical-align: middle;\n",
       "    }\n",
       "\n",
       "    .dataframe tbody tr th {\n",
       "        vertical-align: top;\n",
       "    }\n",
       "\n",
       "    .dataframe thead th {\n",
       "        text-align: right;\n",
       "    }\n",
       "</style>\n",
       "<table border=\"1\" class=\"dataframe\">\n",
       "  <thead>\n",
       "    <tr style=\"text-align: right;\">\n",
       "      <th></th>\n",
       "      <th>هناك ، أمام بيانات السائح تماما .</th>\n",
       "      <th>MSA</th>\n",
       "    </tr>\n",
       "  </thead>\n",
       "  <tbody>\n",
       "    <tr>\n",
       "      <th>0</th>\n",
       "      <td>اسمع بهذا العنوان قبل بالقرب</td>\n",
       "      <td>MSA</td>\n",
       "    </tr>\n",
       "    <tr>\n",
       "      <th>1</th>\n",
       "      <td>استمر السير الطريق حتي تجد صيدليه</td>\n",
       "      <td>MSA</td>\n",
       "    </tr>\n",
       "    <tr>\n",
       "      <th>2</th>\n",
       "      <td>تكلفه الافطار</td>\n",
       "      <td>MSA</td>\n",
       "    </tr>\n",
       "  </tbody>\n",
       "</table>\n",
       "</div>"
      ],
      "text/plain": [
       "   هناك ، أمام بيانات السائح تماما .  MSA\n",
       "0       اسمع بهذا العنوان قبل بالقرب  MSA\n",
       "1  استمر السير الطريق حتي تجد صيدليه  MSA\n",
       "2                      تكلفه الافطار  MSA"
      ]
     },
     "execution_count": 81,
     "metadata": {},
     "output_type": "execute_result"
    }
   ],
   "source": [
    "'''\n",
    "The first step is to subject the data to preprocessing.\n",
    "This involves removing both arabic and english punctuation\n",
    "Normalizing different letter variants with one common letter\n",
    "'''\n",
    "# first we define a list of arabic and english punctiations that we want to get rid of in our text\n",
    "\n",
    "punctuations = '''`÷×؛<>_()*&^%][ـ،/:\"؟.,'{}~¦+|!”…“–ـ''' + string.punctuation\n",
    "stop_words = stopwords.words()\n",
    "\n",
    "arabic_diacritics = re.compile(\"\"\"\n",
    "                             ّ    | # Shadda\n",
    "                             َ    | # Fatha\n",
    "                             ً    | # Tanwin Fath\n",
    "                             ُ    | # Damma\n",
    "                             ٌ    | # Tanwin Damm\n",
    "                             ِ    | # Kasra\n",
    "                             ٍ    | # Tanwin Kasr\n",
    "                             ْ    | # Sukun\n",
    "                             ـ     # Tatwil/Kashida\n",
    "                         \"\"\", re.VERBOSE)\n",
    "\n",
    "def preprocess(text):\n",
    "    \n",
    "    '''\n",
    "    text is an arabic string input\n",
    "    \n",
    "    the preprocessed text is returned\n",
    "    '''\n",
    "    \n",
    "    #remove punctuations\n",
    "    translator = str.maketrans('', '', punctuations)\n",
    "    text = text.translate(translator)\n",
    "    \n",
    "    # remove Tashkeel\n",
    "    text = re.sub(arabic_diacritics, '', text)\n",
    "    \n",
    "    #remove longation\n",
    "    text = re.sub(\"[إأآا]\", \"ا\", text)\n",
    "    text = re.sub(\"ى\", \"ي\", text)\n",
    "    text = re.sub(\"ؤ\", \"ء\", text)\n",
    "    text = re.sub(\"ئ\", \"ء\", text)\n",
    "    text = re.sub(\"ة\", \"ه\", text)\n",
    "    text = re.sub(\"گ\", \"ك\", text)\n",
    "\n",
    "    #remove stopwords\n",
    "    text = ' '.join(word for word in text.split() if word not in stop_words)\n",
    "\n",
    "    return text\n",
    "\n",
    "train_data[\"هناك ، أمام بيانات السائح تماما .\"] = train_data[\"هناك ، أمام بيانات السائح تماما .\"].apply(preprocess)\n",
    "#Let's have a look at our preprocessed data\n",
    "train_data.head(3)"
   ]
  },
  {
   "cell_type": "code",
   "execution_count": 11,
   "metadata": {},
   "outputs": [
    {
     "name": "stdout",
     "output_type": "stream",
     "text": [
      "253014\n"
     ]
    }
   ],
   "source": [
    "#total Number of words after preprocessing\n",
    "#Checking the total number of word contained in the data\n",
    "print(train_data['هناك ، أمام بيانات السائح تماما .'].apply(lambda x: len(x.split(' '))).sum())"
   ]
  },
  {
   "cell_type": "code",
   "execution_count": 12,
   "metadata": {},
   "outputs": [
    {
     "name": "stdout",
     "output_type": "stream",
     "text": [
      "['iso', 'اءتمان', 'اءتماني', 'اءتمانيتان', 'اءتمانيتين', 'اءتمانيه', 'اءجر', 'اا', 'ااا', 'ااااه', 'اااه', 'ااجر', 'ااجرعربيه', 'ااجل', 'ااحسها', 'ااذا', 'اار', 'اارب', 'ااستماره', 'ااكد', 'االبيت', 'االتزم', 'االتهاب', 'االلي', 'االمفروض', 'اامن', 'اانت', 'اانسه', 'ااني', 'ااه', 'ااهاا', 'ااوي', 'اايس', 'اب', 'ابءا', 'ابا', 'اباب', 'اباك', 'اباكيت', 'ابالك', 'اباها', 'اباهم', 'اباوع', 'اباي', 'ابباي', 'اببي', 'ابتاعين', 'ابتداء', 'ابتداءا', 'ابتدينا', 'ابتع', 'ابثه', 'ابحث', 'ابد', 'ابدا', 'ابدل', 'ابدلالقطار', 'ابدي', 'ابديتموه', 'ابرد', 'ابرك', 'ابرم', 'ابريق', 'ابريل', 'ابسر', 'ابسرت', 'ابسرتها', 'ابسرك', 'ابسره', 'ابسرها', 'ابشع', 'ابص', 'ابصر', 'ابصلك', 'ابطء', 'ابطا', 'ابعت', 'ابعتا', 'ابعتلك', 'ابعتلي', 'ابعته', 'ابعتها', 'ابعتو', 'ابعث', 'ابعثلي', 'ابعثها', 'ابعثو', 'ابعثوا', 'ابعد', 'ابعه', 'ابغا', 'ابغاان', 'ابغاك', 'ابغد', 'ابغي', 'ابغيت', 'ابغيك', 'ابق', 'ابقا', 'ابقشيش', 'ابقه', 'ابقوا', 'ابقي', 'ابل', 'ابلغ', 'ابلغه', 'ابله', 'ابناءهم', 'ابنتك', 'ابني', 'ابو', 'ابواب', 'ابوابها', 'ابواك', 'ابي', 'ابيخ', 'ابيش', 'ابيض', 'ابيع', 'ابيعك', 'ابيعه', 'ابيي', 'اتابعك', 'اتاجلت', 'اتاخذ', 'اتاخر', 'اتاخرت', 'اتاذي', 'اتارو', 'اتاصل', 'اتاكد', 'اتاكدت', 'اتاي', 'اتبا', 'اتباع', 'اتباعو', 'اتباعوا', 'اتبدل', 'اتبرده', 'اتبع', 'اتبعتت', 'اتبعم', 'اتبعنا', 'اتبعها', 'اتبعهم', 'اتبعهوم', 'اتبهدلت', 'اتثبت', 'اتثلج', 'اتجاه', 'اتجاهات', 'اتجبلي', 'اتجدول', 'اتجرح', 'اتجرحت', 'اتجه', 'اتجهزه', 'اتجهزو', 'اتجوز', 'اتجوزت', 'اتجي', 'اتجيب', 'اتحب', 'اتحبست', 'اتحبش', 'اتحدث', 'اتحذر', 'اتحركوا', 'اتحسس', 'اتحقق', 'اتحققت', 'اتحكم', 'اتحمضلي', 'اتحمم', 'اتحولت', 'اتخاذ', 'اتخبر', 'اتخبرني', 'اتخدشت', 'اتخذ', 'اتخربت', 'اتخربشت', 'اتخربطت', 'اتخليه', 'اتداريني', 'اتدبست', 'اتدخل', 'اتدلني', 'اتدمرت', 'اتدور', 'اتدير', 'اتديره', 'اتديرها', 'اتديقلي', 'اتدين', 'اتديني', 'اتراهن', 'اترت', 'اترتيب', 'اترجع']\n"
     ]
    }
   ],
   "source": [
    "#splitting the feature and the label in order to make transformations\n",
    "\n",
    "X = train_data['هناك ، أمام بيانات السائح تماما .']\n",
    "y = train_data['MSA']\n",
    "\n",
    "#transform the feature into bag our words\n",
    "\n",
    "#create the transform\n",
    "vectorizer = CountVectorizer()\n",
    "#tokenize and build vocabulary\n",
    "vectorizer.fit(X)\n",
    "print(vectorizer.get_feature_names()[:200])\n",
    "vector = vectorizer.transform(X)"
   ]
  },
  {
   "cell_type": "code",
   "execution_count": 82,
   "metadata": {},
   "outputs": [],
   "source": [
    "#split the data into train and test set\n",
    "X_train, X_test, y_train, y_test = train_test_split(X, y, test_size = 0.3, random_state = 0)"
   ]
  },
  {
   "cell_type": "code",
   "execution_count": 83,
   "metadata": {},
   "outputs": [
    {
     "name": "stdout",
     "output_type": "stream",
     "text": [
      "[10.58603332  8.02108396 10.58603332 ...  9.89288614 10.58603332\n",
      " 10.58603332]\n",
      "(41599, 24623)\n"
     ]
    }
   ],
   "source": [
    "#We need to transform our text into bag of words in order to be able to work with it\n",
    "\n",
    "#first instantiate the tranformer, we use TfidfVectorizer in this case\n",
    "tfidf_vectorizer = TfidfVectorizer()\n",
    "#tokenize and build vocab\n",
    "tfidf_vectorizer.fit(X_train)\n",
    "#summarize\n",
    "#print(tfidf_vectorizer.vocabulary_)\n",
    "print(tfidf_vectorizer.idf_)\n",
    "# encode document\n",
    "X_train_tfidf = tfidf_vectorizer.transform(X_train)\n",
    "print(vector.shape)"
   ]
  },
  {
   "cell_type": "code",
   "execution_count": 15,
   "metadata": {},
   "outputs": [
    {
     "name": "stdout",
     "output_type": "stream",
     "text": [
      "KNN: 0.3905350961302524 (0.0059860000742484225)\n",
      "NB: 0.4268343763330451 (0.004915576827697167)\n",
      "LR: 0.43658758366333084 (0.0071808221927937566)\n",
      "SDG: 0.4312306531496673 (0.004892347473355644)\n"
     ]
    }
   ],
   "source": [
    "'''\n",
    "Here we try different Algorithm to know the best one to work with\n",
    "An empty list is first defined and models are appended to it\n",
    "Cross validation is then instantiated in order to evaluate how different algorithm performed\n",
    "\n",
    "'''\n",
    "def ModelSelection():\n",
    "    \n",
    "    models = []\n",
    "    models.append(('KNN', KNeighborsClassifier(n_neighbors = 55)))\n",
    "    models.append(('NB', MultinomialNB()))\n",
    "    models.append(('LR', LogisticRegression(max_iter=2050)))\n",
    "    models.append(('SDG', SGDClassifier()))\n",
    "    #models.append(('SVM', SVC(kernel = 'rbf', random_state = 0)))\n",
    "\n",
    "    results = []\n",
    "    names = []\n",
    "    #evaluating the algorithm\n",
    "    for name, model in models:\n",
    "      kfold = StratifiedKFold(n_splits=10, random_state=1, shuffle=True)\n",
    "      cv_results = cross_val_score(model, X_train_tfidf, y_train, cv=kfold, scoring='accuracy')\n",
    "      results.append(cv_results)\n",
    "      names.append(name)\n",
    "      print(f\"{name}: {cv_results.mean()} ({cv_results.std()})\")\n",
    "    \n",
    "ModelSelection()"
   ]
  },
  {
   "cell_type": "code",
   "execution_count": 19,
   "metadata": {},
   "outputs": [
    {
     "ename": "NameError",
     "evalue": "name 'results' is not defined",
     "output_type": "error",
     "traceback": [
      "\u001b[1;31m---------------------------------------------------------------------------\u001b[0m",
      "\u001b[1;31mNameError\u001b[0m                                 Traceback (most recent call last)",
      "\u001b[1;32m<ipython-input-19-5502b854f29c>\u001b[0m in \u001b[0;36m<module>\u001b[1;34m\u001b[0m\n\u001b[1;32m----> 1\u001b[1;33m \u001b[0mplt\u001b[0m\u001b[1;33m.\u001b[0m\u001b[0mboxplot\u001b[0m\u001b[1;33m(\u001b[0m\u001b[0mresults\u001b[0m\u001b[1;33m,\u001b[0m \u001b[0mlabels\u001b[0m\u001b[1;33m=\u001b[0m\u001b[0mnames\u001b[0m\u001b[1;33m)\u001b[0m\u001b[1;33m\u001b[0m\u001b[1;33m\u001b[0m\u001b[0m\n\u001b[0m\u001b[0;32m      2\u001b[0m \u001b[0mplt\u001b[0m\u001b[1;33m.\u001b[0m\u001b[0mshow\u001b[0m\u001b[1;33m(\u001b[0m\u001b[1;33m)\u001b[0m\u001b[1;33m\u001b[0m\u001b[1;33m\u001b[0m\u001b[0m\n",
      "\u001b[1;31mNameError\u001b[0m: name 'results' is not defined"
     ]
    }
   ],
   "source": [
    "plt.boxplot(results, labels=names)\n",
    "plt.show()"
   ]
  },
  {
   "cell_type": "code",
   "execution_count": 84,
   "metadata": {},
   "outputs": [
    {
     "data": {
      "text/plain": [
       "Pipeline(memory=None,\n",
       "         steps=[('vect',\n",
       "                 TfidfVectorizer(analyzer='word', binary=False,\n",
       "                                 decode_error='strict',\n",
       "                                 dtype=<class 'numpy.float64'>,\n",
       "                                 encoding='utf-8', input='content',\n",
       "                                 lowercase=True, max_df=1.0, max_features=None,\n",
       "                                 min_df=1, ngram_range=(1, 1), norm='l2',\n",
       "                                 preprocessor=None, smooth_idf=True,\n",
       "                                 stop_words=None, strip_accents=None,\n",
       "                                 sublinear_tf=False,\n",
       "                                 token_pattern='(?u)\\\\b\\\\w\\\\w+\\\\b',\n",
       "                                 tokenizer=None, use_idf=True,\n",
       "                                 vocabulary=None)),\n",
       "                ('clf',\n",
       "                 MultinomialNB(alpha=1.0, class_prior=None, fit_prior=True))],\n",
       "         verbose=False)"
      ]
     },
     "execution_count": 84,
     "metadata": {},
     "output_type": "execute_result"
    }
   ],
   "source": [
    "NMB = Pipeline([('vect', TfidfVectorizer()),\n",
    "               ('clf', MultinomialNB()),\n",
    "              ])\n",
    "NMB.fit(X_train, y_train)"
   ]
  },
  {
   "cell_type": "code",
   "execution_count": 85,
   "metadata": {},
   "outputs": [
    {
     "name": "stdout",
     "output_type": "stream",
     "text": [
      "0.41394230769230766\n"
     ]
    }
   ],
   "source": [
    "pred = NMB.predict(X_test)\n",
    "print(accuracy_score(y_test, pred))"
   ]
  },
  {
   "cell_type": "code",
   "execution_count": 36,
   "metadata": {},
   "outputs": [
    {
     "name": "stdout",
     "output_type": "stream",
     "text": [
      "0.437099358974359\n"
     ]
    }
   ],
   "source": [
    "NMB = MultinomialNB(alpha=1)\n",
    "NMB.fit( X_train_tfidf, y_train)\n",
    "X_test_tfidf = tfidf_vectorizer.transform(X_test)\n",
    "pred = NMB.predict(X_test_tfidf)\n",
    "print(accuracy_score(y_test, pred))"
   ]
  },
  {
   "cell_type": "code",
   "execution_count": 47,
   "metadata": {},
   "outputs": [
    {
     "name": "stdout",
     "output_type": "stream",
     "text": [
      "0.4440705128205128\n",
      "              precision    recall  f1-score   support\n",
      "\n",
      "         ALE       0.41      0.47      0.44       468\n",
      "         ALG       0.67      0.68      0.68       476\n",
      "         ALX       0.30      0.27      0.28       486\n",
      "         AMM       0.30      0.29      0.30       457\n",
      "         ASW       0.34      0.44      0.38       475\n",
      "         BAG       0.51      0.45      0.48       519\n",
      "         BAS       0.44      0.42      0.43       494\n",
      "         BEI       0.45      0.50      0.47       481\n",
      "         BEN       0.47      0.50      0.48       470\n",
      "         CAI       0.26      0.21      0.23       466\n",
      "         DAM       0.34      0.30      0.32       483\n",
      "         DOH       0.41      0.41      0.41       491\n",
      "         FES       0.59      0.51      0.54       465\n",
      "         JED       0.36      0.45      0.40       447\n",
      "         JER       0.39      0.31      0.35       493\n",
      "         KHA       0.46      0.54      0.49       470\n",
      "         MOS       0.67      0.60      0.63       496\n",
      "         MSA       0.52      0.65      0.58       473\n",
      "         MUS       0.38      0.31      0.34       481\n",
      "         RAB       0.56      0.51      0.53       482\n",
      "         RIY       0.33      0.36      0.34       475\n",
      "         SAL       0.32      0.30      0.31       476\n",
      "         SAN       0.59      0.53      0.56       503\n",
      "         SFX       0.52      0.56      0.54       494\n",
      "         TRI       0.55      0.48      0.51       489\n",
      "         TUN       0.45      0.49      0.47       470\n",
      "\n",
      "    accuracy                           0.44     12480\n",
      "   macro avg       0.44      0.44      0.44     12480\n",
      "weighted avg       0.45      0.44      0.44     12480\n",
      "\n"
     ]
    }
   ],
   "source": [
    "LR = LogisticRegression(max_iter=250)\n",
    "LR.fit( X_train_tfidf, y_train)\n",
    "X_test_tfidf = tfidf_vectorizer.transform(X_test)\n",
    "pred = LR.predict(X_test_tfidf)"
   ]
  },
  {
   "cell_type": "code",
   "execution_count": 48,
   "metadata": {},
   "outputs": [
    {
     "name": "stdout",
     "output_type": "stream",
     "text": [
      "0.4440705128205128\n",
      "              precision    recall  f1-score   support\n",
      "\n",
      "         ALE       0.41      0.47      0.44       468\n",
      "         ALG       0.67      0.68      0.68       476\n",
      "         ALX       0.30      0.27      0.28       486\n",
      "         AMM       0.30      0.29      0.30       457\n",
      "         ASW       0.34      0.44      0.38       475\n",
      "         BAG       0.51      0.45      0.48       519\n",
      "         BAS       0.44      0.42      0.43       494\n",
      "         BEI       0.45      0.50      0.47       481\n",
      "         BEN       0.47      0.50      0.48       470\n",
      "         CAI       0.26      0.21      0.23       466\n",
      "         DAM       0.34      0.30      0.32       483\n",
      "         DOH       0.41      0.41      0.41       491\n",
      "         FES       0.59      0.51      0.54       465\n",
      "         JED       0.36      0.45      0.40       447\n",
      "         JER       0.39      0.31      0.35       493\n",
      "         KHA       0.46      0.54      0.49       470\n",
      "         MOS       0.67      0.60      0.63       496\n",
      "         MSA       0.52      0.65      0.58       473\n",
      "         MUS       0.38      0.31      0.34       481\n",
      "         RAB       0.56      0.51      0.53       482\n",
      "         RIY       0.33      0.36      0.34       475\n",
      "         SAL       0.32      0.30      0.31       476\n",
      "         SAN       0.59      0.53      0.56       503\n",
      "         SFX       0.52      0.56      0.54       494\n",
      "         TRI       0.55      0.48      0.51       489\n",
      "         TUN       0.45      0.49      0.47       470\n",
      "\n",
      "    accuracy                           0.44     12480\n",
      "   macro avg       0.44      0.44      0.44     12480\n",
      "weighted avg       0.45      0.44      0.44     12480\n",
      "\n"
     ]
    }
   ],
   "source": [
    "print(accuracy_score(y_test, pred))\n",
    "print(classification_report(y_test, pred))"
   ]
  },
  {
   "cell_type": "code",
   "execution_count": 42,
   "metadata": {},
   "outputs": [],
   "source": [
    "def Predict(text):\n",
    "    translator = str.maketrans('', '', punctuations)  # remove puntctuations\n",
    "    text = text.translate(translator)\n",
    "    #normalizing\n",
    "    text = re.sub(\"[إأآا]\", \"ا\", text)\n",
    "    text = re.sub(\"ى\", \"ي\", text)\n",
    "    text = re.sub(\"ؤ\", \"ء\", text)\n",
    "    text = re.sub(\"ئ\", \"ء\", text)\n",
    "    text = re.sub(\"ة\", \"ه\", text)\n",
    "    text = re.sub(\"گ\", \"ك\", text)\n",
    "    #tranform into vectors\n",
    "    \n",
    "    text = tfidf_vectorizer.transform([text])\n",
    "    #make predictions\n",
    "    prediction = LR.predict(text)\n",
    "    \n",
    "    return prediction\n",
    "    "
   ]
  },
  {
   "cell_type": "code",
   "execution_count": 43,
   "metadata": {},
   "outputs": [
    {
     "data": {
      "text/plain": [
       "array(['BEI'], dtype=object)"
      ]
     },
     "execution_count": 43,
     "metadata": {},
     "output_type": "execute_result"
    }
   ],
   "source": [
    "Predict('أدي الأجرة عمنشستر ؟')"
   ]
  },
  {
   "cell_type": "code",
   "execution_count": 57,
   "metadata": {},
   "outputs": [
    {
     "data": {
      "text/html": [
       "<div>\n",
       "<style scoped>\n",
       "    .dataframe tbody tr th:only-of-type {\n",
       "        vertical-align: middle;\n",
       "    }\n",
       "\n",
       "    .dataframe tbody tr th {\n",
       "        vertical-align: top;\n",
       "    }\n",
       "\n",
       "    .dataframe thead th {\n",
       "        text-align: right;\n",
       "    }\n",
       "</style>\n",
       "<table border=\"1\" class=\"dataframe\">\n",
       "  <thead>\n",
       "    <tr style=\"text-align: right;\">\n",
       "      <th></th>\n",
       "      <th>بالمناسبة ، اسمي هيروش إيجيما .</th>\n",
       "      <th>MSA</th>\n",
       "    </tr>\n",
       "  </thead>\n",
       "  <tbody>\n",
       "    <tr>\n",
       "      <th>415</th>\n",
       "      <td>ده غالي ، مش كده ؟</td>\n",
       "      <td>CAI</td>\n",
       "    </tr>\n",
       "    <tr>\n",
       "      <th>416</th>\n",
       "      <td>ممكن تخلي عندك شنطتي لحد الساعة تلاته ؟</td>\n",
       "      <td>CAI</td>\n",
       "    </tr>\n",
       "    <tr>\n",
       "      <th>417</th>\n",
       "      <td>ممكن احجز اجر - عربية هنا ؟</td>\n",
       "      <td>CAI</td>\n",
       "    </tr>\n",
       "    <tr>\n",
       "      <th>418</th>\n",
       "      <td>انت نسيت مشروباتنا ؟</td>\n",
       "      <td>CAI</td>\n",
       "    </tr>\n",
       "    <tr>\n",
       "      <th>419</th>\n",
       "      <td>عندنا بيرة ، ويسكي ، براندي . جين . فودكا . و ...</td>\n",
       "      <td>CAI</td>\n",
       "    </tr>\n",
       "    <tr>\n",
       "      <th>420</th>\n",
       "      <td>بكام الاجرة لمانشستر ؟</td>\n",
       "      <td>CAI</td>\n",
       "    </tr>\n",
       "    <tr>\n",
       "      <th>421</th>\n",
       "      <td>ادي الرقم .</td>\n",
       "      <td>CAI</td>\n",
       "    </tr>\n",
       "    <tr>\n",
       "      <th>422</th>\n",
       "      <td>أحتمال . لكن لازم نوزن كل حاجة لوحدها .</td>\n",
       "      <td>CAI</td>\n",
       "    </tr>\n",
       "    <tr>\n",
       "      <th>423</th>\n",
       "      <td>الاتوبيس ده رايح فندق هيلتون ؟</td>\n",
       "      <td>CAI</td>\n",
       "    </tr>\n",
       "    <tr>\n",
       "      <th>424</th>\n",
       "      <td>ممكن أعزمك عالعشاء في وقت ما ؟</td>\n",
       "      <td>CAI</td>\n",
       "    </tr>\n",
       "  </tbody>\n",
       "</table>\n",
       "</div>"
      ],
      "text/plain": [
       "                       بالمناسبة ، اسمي هيروش إيجيما .  MSA\n",
       "415                                 ده غالي ، مش كده ؟  CAI\n",
       "416            ممكن تخلي عندك شنطتي لحد الساعة تلاته ؟  CAI\n",
       "417                        ممكن احجز اجر - عربية هنا ؟  CAI\n",
       "418                               انت نسيت مشروباتنا ؟  CAI\n",
       "419  عندنا بيرة ، ويسكي ، براندي . جين . فودكا . و ...  CAI\n",
       "420                             بكام الاجرة لمانشستر ؟  CAI\n",
       "421                                        ادي الرقم .  CAI\n",
       "422            أحتمال . لكن لازم نوزن كل حاجة لوحدها .  CAI\n",
       "423                     الاتوبيس ده رايح فندق هيلتون ؟  CAI\n",
       "424                     ممكن أعزمك عالعشاء في وقت ما ؟  CAI"
      ]
     },
     "execution_count": 57,
     "metadata": {},
     "output_type": "execute_result"
    }
   ],
   "source": [
    "dev_data[415:425]"
   ]
  },
  {
   "cell_type": "code",
   "execution_count": 58,
   "metadata": {},
   "outputs": [
    {
     "name": "stdout",
     "output_type": "stream",
     "text": [
      "415                                   ده غالي ، مش كده ؟\n",
      "416              ممكن تخلي عندك شنطتي لحد الساعة تلاته ؟\n",
      "417                          ممكن احجز اجر - عربية هنا ؟\n",
      "418                                 انت نسيت مشروباتنا ؟\n",
      "419    عندنا بيرة ، ويسكي ، براندي . جين . فودكا . و ...\n",
      "420                               بكام الاجرة لمانشستر ؟\n",
      "421                                          ادي الرقم .\n",
      "422              أحتمال . لكن لازم نوزن كل حاجة لوحدها .\n",
      "423                       الاتوبيس ده رايح فندق هيلتون ؟\n",
      "424                       ممكن أعزمك عالعشاء في وقت ما ؟\n",
      "Name: بالمناسبة ، اسمي هيروش إيجيما ., dtype: object\n"
     ]
    }
   ],
   "source": [
    "sample = dev_data['بالمناسبة ، اسمي هيروش إيجيما .'][415:425]\n",
    "print(sample)"
   ]
  },
  {
   "cell_type": "code",
   "execution_count": 59,
   "metadata": {},
   "outputs": [
    {
     "data": {
      "text/plain": [
       "[array(['ALX'], dtype=object),\n",
       " array(['CAI'], dtype=object),\n",
       " array(['CAI'], dtype=object),\n",
       " array(['ASW'], dtype=object),\n",
       " array(['BEI'], dtype=object),\n",
       " array(['ALX'], dtype=object),\n",
       " array(['BEI'], dtype=object),\n",
       " array(['TRI'], dtype=object),\n",
       " array(['CAI'], dtype=object),\n",
       " array(['KHA'], dtype=object)]"
      ]
     },
     "execution_count": 59,
     "metadata": {},
     "output_type": "execute_result"
    }
   ],
   "source": [
    "pred = [Predict(text) for text in sample]\n",
    "pred"
   ]
  },
  {
   "cell_type": "code",
   "execution_count": null,
   "metadata": {},
   "outputs": [],
   "source": []
  }
 ],
 "metadata": {
  "kernelspec": {
   "display_name": "Python 3",
   "language": "python",
   "name": "python3"
  },
  "language_info": {
   "codemirror_mode": {
    "name": "ipython",
    "version": 3
   },
   "file_extension": ".py",
   "mimetype": "text/x-python",
   "name": "python",
   "nbconvert_exporter": "python",
   "pygments_lexer": "ipython3",
   "version": "3.7.4"
  }
 },
 "nbformat": 4,
 "nbformat_minor": 2
}
